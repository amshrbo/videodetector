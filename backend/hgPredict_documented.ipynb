{
 "cells": [
  {
   "cell_type": "code",
   "execution_count": 3,
   "id": "4b89fc3f",
   "metadata": {},
   "outputs": [],
   "source": [
    "import tensorflow as tf \n",
    "import warnings\n",
    "warnings.filterwarnings('ignore')"
   ]
  },
  {
   "cell_type": "code",
   "execution_count": 4,
   "id": "574b6adb",
   "metadata": {},
   "outputs": [],
   "source": [
    "from tensorflow.keras.models import load_model"
   ]
  },
  {
   "cell_type": "code",
   "execution_count": 6,
   "id": "b6e0576e",
   "metadata": {},
   "outputs": [
    {
     "name": "stdout",
     "output_type": "stream",
     "text": [
      "WARNING:tensorflow:SavedModel saved prior to TF 2.5 detected when loading Keras model. Please ensure that you are saving the model with model.save() or tf.keras.models.save_model(), *NOT* tf.saved_model.save(). To confirm, there should be a file named \"keras_metadata.pb\" in the SavedModel directory.\n"
     ]
    }
   ],
   "source": [
    "model = load_model('./saved_model')"
   ]
  },
  {
   "cell_type": "code",
   "execution_count": 12,
   "id": "e318d436",
   "metadata": {},
   "outputs": [],
   "source": [
    "import os\n",
    "from glob import glob\n",
    "import matplotlib.pyplot as plt\n",
    "import random\n",
    "import cv2\n",
    "import numpy as np\n",
    "import matplotlib.gridspec as gridspec\n",
    "import zlib\n",
    "import itertools\n",
    "import sklearn\n",
    "from sklearn.mixture import GaussianMixture as GMM\n",
    "import itertools\n",
    "import scipy\n",
    "import skimage\n",
    "from skimage.transform import resize\n",
    "import tensorflow as tf\n",
    "from imutils.object_detection import non_max_suppression\n",
    "from imutils import paths\n",
    "import argparse\n",
    "import imutils\n",
    "%config Completer.use_jedi = False"
   ]
  },
  {
   "cell_type": "code",
   "execution_count": 11,
   "id": "c9171bef",
   "metadata": {},
   "outputs": [],
   "source": [
    "hog = cv2.HOGDescriptor()\n",
    "hog.setSVMDetector(cv2.HOGDescriptor_getDefaultPeopleDetector())\n",
    "\n",
    "def preprocess(img):\n",
    "    ret_img=None\n",
    "    candidates=[]\n",
    "    x=np.zeros([350,500,3], np.uint8)\n",
    "    kernal=np.ones((3,3),np.uint8)\n",
    "    image = imutils.resize(img, width=min(400, img.shape[1]))\n",
    "    x[50:(50+image.shape[0]),50:(50+image.shape[1])]=image\n",
    "    image=x\n",
    "    (rects, weights) = hog.detectMultiScale(image, winStride=(4,4),padding=(64,64), scale=1.05)\n",
    "    rects = np.array([[x, y, x + w, y + h] for (x, y, w, h) in rects])\n",
    "    pick = non_max_suppression(rects, probs=None, overlapThresh=0.95)\n",
    "    for (xA, yA, xB, yB) in pick:\n",
    "\n",
    "\n",
    "        #cv2.imwrite(\"output/image{}.png\".format(couter),image[yA:yB,xA:xB])\n",
    "        img=image[yA:yB,xA:xB]\n",
    "        img=cv2.cvtColor(img,cv2.COLOR_RGB2GRAY)\n",
    "        img=cv2.adaptiveThreshold(img,255,cv2.ADAPTIVE_THRESH_GAUSSIAN_C,cv2.THRESH_BINARY,57,20)\n",
    "        #_,img=cv2.threshold(img,80,255,cv2.THRESH_BINARY)\n",
    "        img=cv2.bitwise_not(img)\n",
    "        img=cv2.dilate(img,kernal,iterations=1)\n",
    "        candidates.append(img)\n",
    "    biggest_size=0\n",
    "    for img in candidates:\n",
    "        size=img.shape[0]*img.shape[1]\n",
    "        if size> biggest_size:\n",
    "            ret_img=img\n",
    "            biggest_size=size\n",
    "    return ret_img\n",
    "            "
   ]
  },
  {
   "cell_type": "code",
   "execution_count": 13,
   "id": "0d8ad40e",
   "metadata": {},
   "outputs": [
    {
     "name": "stderr",
     "output_type": "stream",
     "text": [
      "2021-07-12 10:37:12.437605: I tensorflow/compiler/mlir/mlir_graph_optimization_pass.cc:176] None of the MLIR Optimization Passes are enabled (registered 2)\n",
      "2021-07-12 10:37:12.458855: I tensorflow/core/platform/profile_utils/cpu_utils.cc:114] CPU Frequency: 2194820000 Hz\n"
     ]
    }
   ],
   "source": [
    "cap=cv2.VideoCapture(\"videos_to_test/test.mp4\") # input the test video path here\n",
    "while True:\n",
    "    _,image=cap.read()\n",
    "\n",
    "    person=preprocess(image)\n",
    "    if  type (person)== type(None):\n",
    "        continue\n",
    "    cv2.imshow(\"person\",person)\n",
    "    image_to_pred = skimage.transform.resize(person, (1,75, 75, 3))\n",
    "    img_arr = np.asarray(image_to_pred)\n",
    "    y_pred = model.predict(img_arr)\n",
    "    Y_pred_classes = np.argmax(y_pred,axis = 1)\n",
    "    if Y_pred_classes[0] == 1:\n",
    "        predection =\"Abnormal\"\n",
    "    else:\n",
    "        predection=\"Normal\"\n",
    "    cv2.putText(image,predection,(30,30),cv2.FONT_HERSHEY_COMPLEX,1,(255,0,0))\n",
    "    cv2.imshow(\"predection\",image)\n",
    "    k=cv2.waitKey(10)\n",
    "    if k == ord('q'):\n",
    "        break\n",
    "cv2.destroyAllWindows()"
   ]
  },
  {
   "cell_type": "code",
   "execution_count": 18,
   "id": "1e1a6701",
   "metadata": {},
   "outputs": [],
   "source": [
    "def get_avg_preds(vid_path):\n",
    "    cap = cv2.VideoCapture(vid_path) # input the test video path here\n",
    "    total_preds = []\n",
    "    \n",
    "    while cap.isOpened():\n",
    "        ret, image = cap.read()\n",
    "        \n",
    "        if not ret:\n",
    "            print(\"Can't receive frame (stream end?). Exiting ...\")\n",
    "            break\n",
    "            \n",
    "        person = preprocess(image)\n",
    "        \n",
    "        if type(person) == type(None):\n",
    "            continue\n",
    "            \n",
    "        image_to_pred = skimage.transform.resize(person, (1,75, 75, 3))\n",
    "        img_arr = np.asarray(image_to_pred)\n",
    "        \n",
    "        y_pred = model.predict(img_arr)\n",
    "        Y_pred_classes = np.argmax(y_pred,axis = 1)\n",
    "        \n",
    "        if Y_pred_classes[0] == 1:\n",
    "            predection =\"Abnormal\"\n",
    "            total_preds.append(1)\n",
    "        else:\n",
    "            predection=\"Normal\"\n",
    "            total_preds.append(0)\n",
    "\n",
    "        k = cv2.waitKey(10)\n",
    "        if k == ord('q'):\n",
    "            break\n",
    "            \n",
    "    cv2.destroyAllWindows()\n",
    "    \n",
    "    count = 0\n",
    "    for i in total_preds:\n",
    "        if i == 1:\n",
    "            count += 1\n",
    "    if len(total_preds) == 0:\n",
    "        print(\"can't detect persons in this video\")\n",
    "        break\n",
    "    if count >= (len(total_preds) / 2):\n",
    "        return 'Abnormal'\n",
    "    else:\n",
    "        return 'Noraml'"
   ]
  },
  {
   "cell_type": "code",
   "execution_count": 19,
   "id": "1ad402a4",
   "metadata": {},
   "outputs": [
    {
     "name": "stdout",
     "output_type": "stream",
     "text": [
      "Can't receive frame (stream end?). Exiting ...\n"
     ]
    }
   ],
   "source": [
    "prediction = get_avg_preds(\"videos_to_test/test.mp4\")"
   ]
  },
  {
   "cell_type": "code",
   "execution_count": 20,
   "id": "cfbeabb4",
   "metadata": {},
   "outputs": [
    {
     "data": {
      "text/plain": [
       "'Noraml'"
      ]
     },
     "execution_count": 20,
     "metadata": {},
     "output_type": "execute_result"
    }
   ],
   "source": [
    "prediction"
   ]
  },
  {
   "cell_type": "code",
   "execution_count": null,
   "id": "e9c2c0d5",
   "metadata": {},
   "outputs": [],
   "source": []
  }
 ],
 "metadata": {
  "kernelspec": {
   "display_name": "Python 3 (ipykernel)",
   "language": "python",
   "name": "python3"
  },
  "language_info": {
   "codemirror_mode": {
    "name": "ipython",
    "version": 3
   },
   "file_extension": ".py",
   "mimetype": "text/x-python",
   "name": "python",
   "nbconvert_exporter": "python",
   "pygments_lexer": "ipython3",
   "version": "3.7.3"
  }
 },
 "nbformat": 4,
 "nbformat_minor": 5
}
